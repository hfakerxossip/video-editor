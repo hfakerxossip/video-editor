{
  "nbformat": 4,
  "nbformat_minor": 0,
  "metadata": {
    "colab": {
      "name": "VideoEditor.ipynb",
      "provenance": [],
      "collapsed_sections": [],
      "authorship_tag": "ABX9TyNSM8B4N2FTJ5NE5K1nhi4+",
      "include_colab_link": true
    },
    "kernelspec": {
      "display_name": "Python 3",
      "name": "python3"
    },
    "language_info": {
      "name": "python"
    }
  },
  "cells": [
    {
      "cell_type": "markdown",
      "metadata": {
        "id": "view-in-github",
        "colab_type": "text"
      },
      "source": [
        "<a href=\"https://colab.research.google.com/github/lukas-hauser/video-editor/blob/main/VideoEditor.ipynb\" target=\"_parent\"><img src=\"https://colab.research.google.com/assets/colab-badge.svg\" alt=\"Open In Colab\"/></a>"
      ]
    },
    {
      "cell_type": "code",
      "metadata": {
        "id": "llPRVAtNDePZ"
      },
      "source": [
        "# Mount Google Drive\n",
        "try:\n",
        "    from google.colab import drive\n",
        "    drive.mount('/content/drive', force_remount=True)\n",
        "    COLAB = True\n",
        "    print(\"Note: using Google CoLab\")\n",
        "except:\n",
        "    print(\"Note: not using Google CoLab\")\n",
        "    COLAB = False"
      ],
      "execution_count": null,
      "outputs": []
    },
    {
      "cell_type": "code",
      "metadata": {
        "id": "yvBYWc0bDnUh"
      },
      "source": [
        "!ls /content/drive/MyDrive/CodingProjects"
      ],
      "execution_count": null,
      "outputs": []
    },
    {
      "cell_type": "code",
      "metadata": {
        "id": "OsMnxB46EB7P"
      },
      "source": [
        "# Navigate to the relevant folder\n",
        "%cd /content/drive/MyDrive/CodingProjects/video_editing"
      ],
      "execution_count": null,
      "outputs": []
    },
    {
      "cell_type": "code",
      "metadata": {
        "id": "rn5w5AgKFWBP"
      },
      "source": [
        "!pip install ffmpeg\n",
        "import ffmpeg"
      ],
      "execution_count": null,
      "outputs": []
    },
    {
      "cell_type": "code",
      "metadata": {
        "id": "dY-fSY5zNgI-"
      },
      "source": [
        "# Reverse the video\n",
        "!ffmpeg -i original.mp4 -vf reverse reversed.mp4"
      ],
      "execution_count": null,
      "outputs": []
    },
    {
      "cell_type": "code",
      "metadata": {
        "id": "9_LurpYE2Ool"
      },
      "source": [
        "# Convert mov file to mp4\n",
        "!ffmpeg -i original.mov -q:v 0 original.mp4\n",
        "#!ffmpeg -i reversed.mov -q:v 0 reversed.mp4"
      ],
      "execution_count": null,
      "outputs": []
    },
    {
      "cell_type": "code",
      "metadata": {
        "id": "bfPf573EGyyX"
      },
      "source": [
        "# Concatenate Video files (Create a .txt file showing ' file \"example.mp4\"' )\n",
        "!ffmpeg -f concat -safe 0 -i mylist.txt -c copy output.mp4"
      ],
      "execution_count": null,
      "outputs": []
    },
    {
      "cell_type": "code",
      "metadata": {
        "id": "qwHNXs3hKFGn"
      },
      "source": [
        "# Remove Audio\n",
        "!ffmpeg -i output.mp4 -c copy -an final_output.mp4"
      ],
      "execution_count": null,
      "outputs": []
    }
  ]
}